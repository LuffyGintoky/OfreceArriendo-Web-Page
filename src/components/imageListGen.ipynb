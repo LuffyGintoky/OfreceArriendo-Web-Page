{
 "cells": [
  {
   "cell_type": "code",
   "execution_count": 12,
   "metadata": {},
   "outputs": [
    {
     "name": "stdout",
     "output_type": "stream",
     "text": [
      "[\"3988b9_03e67722b5a14930b18ea6375ee30ddf~mv2_d_2560_1920_s_2.webp\", \"3988b9_0ca21f6e4bf04b5999b822fe4836388c~mv2_d_3864_5152_s_4_2.webp\", \"3988b9_10514662090d4d54b31632bc84688517~mv2_d_5152_3864_s_4_2.webp\", \"3988b9_1352eebca1bc4521b421a6f6a66d7f31~mv2_d_5152_3864_s_4_2.webp\", \"3988b9_194aab618c2a45bda136b29d470ea841~mv2_d_5152_3864_s_4_2.webp\", \"3988b9_1a60097d0c824d1ba62fe0c1b84ece5e~mv2_d_5152_3864_s_4_2.webp\", \"3988b9_1a9e160001614bbc94598cd63f0ee35c~mv2_d_5152_3864_s_4_2.webp\", \"3988b9_1b47976e97f94871aecd22509a0cba65~mv2_d_5152_3864_s_4_2.webp\", \"3988b9_1ed1afbd87354f0dbe1e268c0f1bd73c~mv2_d_5152_3864_s_4_2.webp\", \"3988b9_2179791b15374daf8fd1b8d4063e3328~mv2_d_5152_3864_s_4_2.webp\", \"3988b9_24e7bb30a63942479984c3e33bdb1938~mv2_d_3864_5152_s_4_2.webp\", \"3988b9_265d78f446184c26a92f1bc589953dc9~mv2_d_5152_3864_s_4_2.webp\", \"3988b9_28edfc868c3746e2b112ed8e39bc6268~mv2_d_5152_3864_s_4_2.webp\", \"3988b9_2be9fb2191f2471883334fd0eb1af882~mv2_d_5152_3864_s_4_2.webp\", \"3988b9_2ee22b48284441b186936dcea7da0d3e~mv2_d_5152_3864_s_4_2.webp\", \"3988b9_2f3a338bef2f4a3aa934510cd99823e6~mv2_d_5152_3864_s_4_2.webp\", \"3988b9_34b717e5b1b344ee8eeb470eca30ab6b~mv2_d_5152_3864_s_4_2.webp\", \"3988b9_36513f4e59ef43b697560662e1036dc5~mv2_d_5152_3864_s_4_2.webp\", \"3988b9_3847c7f5a07641e4a464c935fb56a3bb~mv2_d_5152_3864_s_4_2.webp\", \"3988b9_3e0bb45013184028ba7a26911bc2a96a~mv2_d_5152_3864_s_4_2.webp\", \"3988b9_4bd6162eef1849bd880212148fa87432~mv2_d_5152_3864_s_4_2.webp\", \"3988b9_4c9a2af3bbe84d36adfc8aa953eb6b8f~mv2_d_5152_3864_s_4_2.webp\", \"3988b9_4ca29202405842df895b128b52a622d8~mv2_d_5152_3864_s_4_2.webp\", \"3988b9_5557286f395042daa2381d59a184eb25~mv2_d_5152_3864_s_4_2.webp\", \"3988b9_56b32895f88a47bb92491b89d1cbc68c~mv2_d_5152_3864_s_4_2.webp\", \"3988b9_602754a4fa2d46af99773bee443b3f03~mv2_d_5152_3864_s_4_2.webp\", \"3988b9_61b8568d4df34a17bb167c4338ff00f4~mv2_d_5152_3864_s_4_2.webp\", \"3988b9_6db9027e337d4080b9cf713bdaa6f71c~mv2_d_5152_3864_s_4_2.webp\", \"3988b9_758707fc97c3435aa16bb5b1de4b373f~mv2_d_3864_5152_s_4_2.webp\", \"3988b9_7a3834b3773240d58a23a6fcc7e7f797~mv2_d_3864_5152_s_4_2.webp\", \"3988b9_82318536d2a24b7fab3b83a4bdeaff16~mv2_d_5152_3864_s_4_2.webp\", \"3988b9_847ffb290bfe4cb590655502e1faca41~mv2_d_5152_3864_s_4_2.webp\", \"3988b9_8946eea427cf4665829ec68786a504b9~mv2_d_5152_3864_s_4_2.webp\", \"3988b9_8a7c55b182df4915b8e6710cc49a7052~mv2_d_5152_3864_s_4_2.webp\", \"3988b9_8df0d28270664c308d10ed63e971a66a~mv2_d_5152_3864_s_4_2.webp\", \"3988b9_8f3adcb5aa6a4c2187a13066dab095e8~mv2_d_5152_3864_s_4_2.webp\", \"3988b9_93ed0909cc9b4b2f87a2f8037908b846~mv2_d_3864_5152_s_4_2.webp\", \"3988b9_98184a9c24304b689052792a6cab6c1d~mv2_d_5152_3864_s_4_2.webp\", \"3988b9_9d2876741e6f4bafb9b8c135bf7bde30~mv2_d_5152_3864_s_4_2.webp\", \"3988b9_a09bb7853ea548b3a36f38b534994dc6~mv2_d_3864_5152_s_4_2.webp\", \"3988b9_a8f1a5a2697543e48e3e640fb94e5601~mv2_d_5152_3864_s_4_2.webp\", \"3988b9_aa35857ea5d74a6f8b8a9986d6f89da1~mv2_d_3864_5152_s_4_2.webp\", \"3988b9_aa4814de91714da5a31819d3b93a9a84~mv2_d_3864_5152_s_4_2.webp\", \"3988b9_ae83ef02093b49a6a9b5549b0e3a8c7e~mv2_d_5152_3864_s_4_2.webp\", \"3988b9_af390cd9fb4c4465a7d2934a0edd0cf6~mv2_d_5152_3864_s_4_2.webp\", \"3988b9_be9a97f770c94d67822a9f4bd99a5680~mv2_d_5152_3864_s_4_2.webp\", \"3988b9_c7913db7f14f4c33ae31c7bb84b5b52c~mv2_d_5152_3864_s_4_2.webp\", \"3988b9_c859daf4dc3748ad9a2427cb6be7f8fa~mv2_d_3864_5152_s_4_2.webp\", \"3988b9_c85ac6101951442ab3764b17e6361ed0~mv2_d_5152_3864_s_4_2.webp\", \"3988b9_c9abd73f8eae47b2880c211b0af026ab~mv2_d_5152_3864_s_4_2.webp\", \"3988b9_cf50ef10d4fd47fd9e6711c11610b6ba~mv2_d_5152_3864_s_4_2.webp\", \"3988b9_d2aada3908384275b7e8d5754e4633b2~mv2_d_3864_5152_s_4_2.webp\", \"3988b9_d636d623bcea43cf91996d7508a3a503~mv2_d_5152_3864_s_4_2.webp\", \"3988b9_d93e74ce544a4c3b8a24b17b86b9e3ba~mv2_d_5152_3864_s_4_2.webp\", \"3988b9_e2a07da18be24afdb7bffd9be9f4a5a3~mv2_d_5152_3864_s_4_2.webp\", \"3988b9_ecdde0c06fc34b91bc5fe66a6ddb3392~mv2_d_5152_3864_s_4_2.webp\", \"3988b9_ee0c4411ecf242a29482b84d12e41d1b~mv2_d_5152_3864_s_4_2.webp\", \"3988b9_f02215d3ae4447489a53c772cf572d1d~mv2_d_5152_3864_s_4_2.webp\", \"sitioIndu.jpg\"]\n"
     ]
    }
   ],
   "source": [
    "import os\n",
    "import json\n",
    "\n",
    "def list_images(directory_path):\n",
    "    # Lista para almacenar los nombres de los archivos de imágenes\n",
    "    images = []\n",
    "\n",
    "    # Recorrer todos los archivos en el directorio\n",
    "    for filename in os.listdir(directory_path):\n",
    "        if filename.endswith(\".jpg\") or filename.endswith(\".png\") or filename.endswith(\".jpeg\") or filename.endswith(\".webp\"): \n",
    "            # Agrega el nombre del archivo a la lista de imágenes\n",
    "            images.append(filename)\n",
    "        else:\n",
    "            continue\n",
    "\n",
    "    return images\n",
    "\n",
    "# Ruta al directorio que contiene las imágenes\n",
    "directory_path = \"../images/properties/calama/comercial/sitio indu/\"\n",
    "\n",
    "# Obtener la lista de imágenes\n",
    "image_files = list_images(directory_path)\n",
    "\n",
    "# Convertir la lista de imágenes a una cadena con formato JSON\n",
    "json_images = json.dumps(image_files)\n",
    "\n",
    "# Imprimir la cadena JSON\n",
    "print(json_images)\n",
    "\n",
    "# Si necesitas la cadena JSON para uso en JavaScript, y tu entorno tiene problemas con las comillas dobles,\n",
    "# puedes intentar reemplazar las comillas dobles con comillas simples después de la conversión a JSON,\n",
    "# pero antes de imprimir o utilizar la cadena.\n",
    "# json_images_single_quotes = json_images.replace('\"', \"'\")\n",
    "# print(json_images_single_quotes)\n",
    "\n"
   ]
  },
  {
   "cell_type": "code",
   "execution_count": null,
   "metadata": {},
   "outputs": [],
   "source": []
  }
 ],
 "metadata": {
  "kernelspec": {
   "display_name": "base",
   "language": "python",
   "name": "python3"
  },
  "language_info": {
   "codemirror_mode": {
    "name": "ipython",
    "version": 3
   },
   "file_extension": ".py",
   "mimetype": "text/x-python",
   "name": "python",
   "nbconvert_exporter": "python",
   "pygments_lexer": "ipython3",
   "version": "3.11.5"
  }
 },
 "nbformat": 4,
 "nbformat_minor": 2
}
