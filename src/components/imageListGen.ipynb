{
 "cells": [
  {
   "cell_type": "code",
   "execution_count": 4,
   "metadata": {},
   "outputs": [
    {
     "name": "stdout",
     "output_type": "stream",
     "text": [
      "['3988b9_235cc98098c741c0b26b0e132a1784d2~mv2_d_1920_2560_s_2.webp', '3988b9_2bc0620386f84ab3899402dc58f0fb7a~mv2_d_3864_5152_s_4_2.webp', '3988b9_54010271a9424111a32ce16427beda01~mv2_d_2560_1920_s_2.webp', '3988b9_5c9b238cb5ba4419b0574b3a317582e0~mv2_d_2560_1920_s_2.webp', '3988b9_6345473489894259937cc817b939b948~mv2_d_5152_3864_s_4_2.webp', '3988b9_68bd39272b4248f5b1e6314ca3a6c657~mv2_d_2560_1920_s_2.webp', '3988b9_80bdadfc273f46c7a14d3d5700e82843~mv2_d_2560_1920_s_2.webp', '3988b9_8f604bf4ffc0462e98ad1d4d7bfe2319~mv2_d_1920_2560_s_2.webp', '3988b9_945ef506c00d4a1f970e8a762c23becb~mv2.webp', '3988b9_a43341f893c9429fbab7b892d8d64499~mv2_d_3864_5152_s_4_2.webp', '3988b9_bd7ba7917e9042f1873ab42a837ad6bd~mv2_d_1920_2560_s_2.webp', '3988b9_be3e9647062b462b82555184919f9a3a~mv2_d_2560_1920_s_2.webp', '3988b9_c02f1a6699804391a3100a189c984b4b~mv2.webp', '3988b9_c0f2c2d8ea8549f38d499116edb26f69~mv2.webp', '3988b9_c7de1e327d0f4c3cb9e426bf73e4e6a5~mv2_d_3864_5152_s_4_2.webp', '3988b9_c965a247854f459589cb8ea722189aff~mv2_d_2560_1920_s_2.webp', '3988b9_cbecc3f3cdb742b4ad93d37ba4f62e43~mv2.webp', '3988b9_d7ac8ff145294560a827cda2377d60d3~mv2_d_1920_2560_s_2.webp', '3988b9_d84c27b336364764afb29c0e4eb26aa8~mv2_d_5152_3864_s_4_2.webp', '3988b9_ea36cbb3de05407e9953c70c19c229e2~mv2.webp', 'casa52.jpg']\n"
     ]
    }
   ],
   "source": [
    "import os\n",
    "\n",
    "def list_images(directory_path):\n",
    "    # Lista para almacenar los nombres de los archivos de imágenes\n",
    "    images = []\n",
    "\n",
    "    # Recorrer todos los archivos en el directorio\n",
    "    for filename in os.listdir(directory_path):\n",
    "        if filename.endswith(\".jpg\") or filename.endswith(\".png\") or filename.endswith(\".jpeg\") or filename.endswith(\".webp\"): \n",
    "            # Agrega el nombre del archivo a la lista de imágenes\n",
    "            images.append(filename)\n",
    "        else:\n",
    "            continue\n",
    "\n",
    "    return images\n",
    "\n",
    "# Ruta al directorio que contiene las imágenes\n",
    "directory_path = \"../images/properties/antofagasta/casas/casa 53/\"\n",
    "\n",
    "# Obtener la lista de imágenes\n",
    "image_files = list_images(directory_path)\n",
    "\n",
    "# Hacer algo con la lista de imágenes (por ejemplo, imprimir la lista, guardarla en un archivo, etc.)\n",
    "print(image_files)\n"
   ]
  },
  {
   "cell_type": "code",
   "execution_count": null,
   "metadata": {},
   "outputs": [],
   "source": []
  }
 ],
 "metadata": {
  "kernelspec": {
   "display_name": "base",
   "language": "python",
   "name": "python3"
  },
  "language_info": {
   "codemirror_mode": {
    "name": "ipython",
    "version": 3
   },
   "file_extension": ".py",
   "mimetype": "text/x-python",
   "name": "python",
   "nbconvert_exporter": "python",
   "pygments_lexer": "ipython3",
   "version": "3.11.5"
  }
 },
 "nbformat": 4,
 "nbformat_minor": 2
}
