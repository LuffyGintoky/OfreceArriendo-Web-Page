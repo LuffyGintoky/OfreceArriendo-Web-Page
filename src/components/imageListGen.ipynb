{
 "cells": [
  {
   "cell_type": "code",
   "execution_count": 1,
   "metadata": {},
   "outputs": [
    {
     "name": "stdout",
     "output_type": "stream",
     "text": [
      "[\"edificiomedico.jpeg\", \"WhatsApp Image 2023-11-03 at 7.53.22 PM (1).jpeg\", \"WhatsApp Image 2023-11-03 at 7.53.22 PM.jpeg\", \"WhatsApp Image 2023-11-03 at 7.53.23 PM (1).jpeg\", \"WhatsApp Image 2023-11-03 at 7.53.23 PM (2).jpeg\", \"WhatsApp Image 2023-11-03 at 7.53.23 PM.jpeg\", \"WhatsApp Image 2023-11-03 at 7.53.24 PM (1).jpeg\", \"WhatsApp Image 2023-11-03 at 7.53.24 PM.jpeg\", \"WhatsApp Image 2023-11-03 at 7.53.25 PM.jpeg\", \"WhatsApp Image 2023-11-03 at 7.53.26 PM (1).jpeg\", \"WhatsApp Image 2023-11-03 at 7.53.26 PM.jpeg\", \"WhatsApp Image 2023-11-03 at 7.53.27 PM.jpeg\", \"WhatsApp Image 2023-11-03 at 7.53.28 PM.jpeg\"]\n"
     ]
    }
   ],
   "source": [
    "import os\n",
    "import json\n",
    "\n",
    "def list_images(directory_path):\n",
    "    # Lista para almacenar los nombres de los archivos de imágenes\n",
    "    images = []\n",
    "\n",
    "    # Recorrer todos los archivos en el directorio\n",
    "    for filename in os.listdir(directory_path):\n",
    "        if filename.endswith(\".jpg\") or filename.endswith(\".png\") or filename.endswith(\".jpeg\") or filename.endswith(\".webp\"): \n",
    "            # Agrega el nombre del archivo a la lista de imágenes\n",
    "            images.append(filename)\n",
    "        else:\n",
    "            continue\n",
    "\n",
    "    return images\n",
    "\n",
    "# Ruta al directorio que contiene las imágenes\n",
    "directory_path = \"../images/properties/antofagasta/comercial/oficina/\"\n",
    "\n",
    "# Obtener la lista de imágenes\n",
    "image_files = list_images(directory_path)\n",
    "\n",
    "# Convertir la lista de imágenes a una cadena con formato JSON\n",
    "json_images = json.dumps(image_files)\n",
    "\n",
    "# Imprimir la cadena JSON\n",
    "print(json_images)\n",
    "\n",
    "# Si necesitas la cadena JSON para uso en JavaScript, y tu entorno tiene problemas con las comillas dobles,\n",
    "# puedes intentar reemplazar las comillas dobles con comillas simples después de la conversión a JSON,\n",
    "# pero antes de imprimir o utilizar la cadena.\n",
    "# json_images_single_quotes = json_images.replace('\"', \"'\")\n",
    "# print(json_images_single_quotes)\n",
    "\n"
   ]
  },
  {
   "cell_type": "code",
   "execution_count": null,
   "metadata": {},
   "outputs": [],
   "source": []
  }
 ],
 "metadata": {
  "kernelspec": {
   "display_name": "base",
   "language": "python",
   "name": "python3"
  },
  "language_info": {
   "codemirror_mode": {
    "name": "ipython",
    "version": 3
   },
   "file_extension": ".py",
   "mimetype": "text/x-python",
   "name": "python",
   "nbconvert_exporter": "python",
   "pygments_lexer": "ipython3",
   "version": "3.11.5"
  }
 },
 "nbformat": 4,
 "nbformat_minor": 2
}
